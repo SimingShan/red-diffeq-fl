{
 "cells": [
  {
   "cell_type": "code",
   "execution_count": 1,
   "id": "2894419c",
   "metadata": {},
   "outputs": [],
   "source": [
    "### This notebook is to create all plots in the paper ###"
   ]
  },
  {
   "cell_type": "code",
   "execution_count": 2,
   "id": "d5685ee2",
   "metadata": {},
   "outputs": [],
   "source": [
    "## define the path ##\n",
    "vm_path = \"data/velocity_model/CF_test.npy\""
   ]
  },
  {
   "cell_type": "code",
   "execution_count": 28,
   "id": "9df6add1",
   "metadata": {},
   "outputs": [
    {
     "data": {
      "image/png": "[encoded data removed]",
      "text/plain": [
       "<Figure size 640x480 with 1 Axes>"
      ]
     },
     "metadata": {},
     "output_type": "display_data"
    }
   ],
   "source": [
    "## define a function to create the image ##\n",
    "import numpy as np\n",
    "import matplotlib.pyplot as plt\n",
    "import os \n",
    "plt.rcParams[\"font.size\"] = 20\n",
    "\n",
    "def plot(vm_path, index=0, axis=False, save_path=None, num_ticks=5):\n",
    "    data = np.load(vm_path)[index:index+1]\n",
    "\n",
    "    fig, ax = plt.subplots(dpi=100)\n",
    "\n",
    "    if axis:\n",
    "        extent = [0, 700, 700, 0]\n",
    "        im = ax.imshow(data[0, 0], cmap='jet', extent=extent, vmin=1500, vmax=4500)\n",
    "\n",
    "        # Set evenly spaced tick marks\n",
    "        ticks = np.linspace(0, 700, num_ticks)\n",
    "        ax.set_xticks(ticks)\n",
    "        ax.set_yticks(ticks)\n",
    "\n",
    "        # Optional: label axes\n",
    "        ax.set_xlabel('Length (m)')\n",
    "        ax.set_ylabel('Depth (m)')\n",
    "\n",
    "        fig.colorbar(im, ax=ax, label='Velocity (m/s)', orientation='vertical')\n",
    "    else:\n",
    "        im = ax.imshow(data[0, 0], cmap='jet')\n",
    "        ax.axis('off')\n",
    "\n",
    "    plt.tight_layout()\n",
    "\n",
    "    if save_path:\n",
    "        plt.savefig(save_path + f\"velocity_model_{index}_axis{axis}.png\", bbox_inches='tight', pad_inches=0)\n",
    "    else:\n",
    "        plt.show()\n",
    "\n",
    "save_path = \"plots/problem_setup/\"\n",
    "os.makedirs(save_path, exist_ok=True)\n",
    "# plot the velocity model\n",
    "plot(vm_path, index=0, axis=False, save_path = save_path, num_ticks=5)"
   ]
  },
  {
   "cell_type": "code",
   "execution_count": 1,
   "id": "81197b25",
   "metadata": {},
   "outputs": [],
   "source": [
    "import numpy as np\n",
    "import matplotlib.pyplot as plt\n",
    "plt.rcParams.update({'font.size': 20})\n",
    "def plot_single(data, save_path, index=0, source=0, axis=False):\n",
    "    data = data[index, source]\n",
    "    nz, nx = data.shape\n",
    "    \n",
    "    fig, ax = plt.subplots(dpi=100)\n",
    "    im = ax.matshow(data, aspect='auto', cmap='gray', vmin=-1, vmax=2)\n",
    "\n",
    "    # Maintain proportional scaling\n",
    "    ax.set_aspect(aspect=nx / nz)\n",
    "\n",
    "    # X-axis: 0 to 700 meters\n",
    "    num_ticks = 5\n",
    "    x_ticks = np.linspace(0, nx - 1, num_ticks).astype(int)\n",
    "    x_labels = np.linspace(0, 700, num_ticks).astype(int)\n",
    "    ax.set_xticks(x_ticks)\n",
    "    ax.set_xticklabels(x_labels)\n",
    "    ax.xaxis.set_ticks_position('bottom')\n",
    "    ax.set_xlabel('Length (m)')\n",
    "    # Y-axis: 0 to 1000 ms (inclusive)\n",
    "    y_labels = np.arange(0, 1001, 200)\n",
    "    y_ticks = (y_labels / 1000 * nz).astype(int)\n",
    "    ax.set_yticks(y_ticks)\n",
    "    ax.set_yticklabels(y_labels)\n",
    "    ax.set_ylabel('Time (ms)')\n",
    "    if not axis:\n",
    "            ax.axis('off')\n",
    "\n",
    "    plt.tight_layout()\n",
    "    plt.savefig(save_path + f\"seismic_plot_index_{index}_source_{source}_axis{axis}.png\", bbox_inches='tight', pad_inches=0)\n",
    "    plt.close(fig)\n",
    "\n",
    "s_path = \"data/seismic_data/CF_test.npy\"\n",
    "s_data = np.load(s_path)\n",
    "save_path = \"plots/problem_setup/\"\n",
    "for s in range(5):\n",
    "    plot_single(s_data, index=0, source=s, save_path=save_path, axis=True)"
   ]
  },
  {
   "cell_type": "code",
   "execution_count": 2,
   "id": "0e3356ff",
   "metadata": {},
   "outputs": [],
   "source": [
    "import numpy as np\n",
    "import matplotlib.pyplot as plt\n",
    "plt.rcParams.update({'font.size': 20})\n",
    "def plot_single(data, save_path, index=0, source=0, axis=False):\n",
    "    data = data[index, source]\n",
    "    nz, nx = data.shape\n",
    "    \n",
    "    fig, ax = plt.subplots(1, 1, figsize=(8, 6))\n",
    "    im = ax.matshow(data, aspect='auto', cmap='gray', vmin=-1, vmax=2)\n",
    "\n",
    "    # Maintain proportional scaling\n",
    "    ax.set_aspect(aspect=nx / nz)\n",
    "\n",
    "    # X-axis: 0 to 700 meters\n",
    "    num_ticks = 5\n",
    "    x_ticks = np.linspace(0, nx - 1, num_ticks).astype(int)\n",
    "    x_labels = np.linspace(0, 700, num_ticks).astype(int)\n",
    "    ax.set_xticks(x_ticks)\n",
    "    ax.set_xticklabels(x_labels)\n",
    "    ax.xaxis.set_ticks_position('bottom')\n",
    "    ax.set_xlabel('Length (m)')\n",
    "    # Y-axis: 0 to 1000 ms (inclusive)\n",
    "    y_labels = np.arange(0, 1001, 200)\n",
    "    y_ticks = (y_labels / 1000 * nz).astype(int)\n",
    "    ax.set_yticks(y_ticks)\n",
    "    ax.set_yticklabels(y_labels)\n",
    "    ax.set_ylabel('Time (ms)')\n",
    "    if not axis:\n",
    "            ax.axis('off')\n",
    "\n",
    "    plt.tight_layout()\n",
    "    plt.savefig(save_path + f\"seismic_plot_index_{index}_source_{source}_axis{axis}.png\", bbox_inches='tight', pad_inches=0)\n",
    "    plt.close(fig)\n",
    "\n",
    "s_path = \"data/seismic_data/CF_test.npy\"\n",
    "s_data = np.load(s_path)\n",
    "save_path = \"plots/problem_setup/\"\n",
    "for s in range(5):\n",
    "    plot_single(s_data, index=0, source=s, save_path=save_path, axis=True)"
   ]
  },
  {
   "cell_type": "code",
   "execution_count": null,
   "id": "77af4b92",
   "metadata": {},
   "outputs": [
    {
     "name": "stdout",
     "output_type": "stream",
     "text": [
      "Velocity Model Data Shape: (100, 1, 70, 70)\n",
      "Seismic Data Shape: (100, 5, 1000, 70)\n"
     ]
    }
   ],
   "source": [
    "vm_data = np.load(vm_path)\n",
    "print(f\"Velocity Model Data Shape: {vm_data.shape}\")\n",
    "s_data = np.load(s_path)\n",
    "print(f\"Seismic Data Shape: {s_data.shape}\")"
   ]
  },
  {
   "cell_type": "code",
   "execution_count": 32,
   "id": "df9965ed",
   "metadata": {},
   "outputs": [
    {
     "name": "stdout",
     "output_type": "stream",
     "text": [
      "Velocity Model Data Shape for 10 samples: (10, 1, 70, 70)\n",
      "Seismic Data Shape for 10 samples: (10, 5, 1000, 70)\n"
     ]
    }
   ],
   "source": [
    "vm_10_data = vm_data[:10, :, :]\n",
    "s_10_data = s_data[:10, :, :]\n",
    "print(f\"Velocity Model Data Shape for 10 samples: {vm_10_data.shape}\")\n",
    "print(f\"Seismic Data Shape for 10 samples: {s_10_data.shape}\")"
   ]
  },
  {
   "cell_type": "code",
   "execution_count": 37,
   "id": "3fc41165",
   "metadata": {},
   "outputs": [
    {
     "name": "stdout",
     "output_type": "stream",
     "text": [
      "Velocity Model Data Shape for CF: (10, 1, 70, 70)\n",
      "Seismic Data Shape for CF: (10, 5, 1000, 70)\n",
      "Velocity Model Data Shape for CV: (10, 1, 70, 70)\n",
      "Seismic Data Shape for CV: (10, 5, 1000, 70)\n",
      "Velocity Model Data Shape for FF: (10, 1, 70, 70)\n",
      "Seismic Data Shape for FF: (10, 5, 1000, 70)\n",
      "Velocity Model Data Shape for FV: (10, 1, 70, 70)\n",
      "Seismic Data Shape for FV: (10, 5, 1000, 70)\n"
     ]
    }
   ],
   "source": [
    "stylies = [\"CF\", \"CV\", \"FF\", \"FV\"]\n",
    "for style in stylies:\n",
    "    vm_path = f\"data/velocity_model/{style}_test.npy\"\n",
    "    s_path = f\"data/seismic_data/{style}_test.npy\"\n",
    "    \n",
    "    vm_data = np.load(vm_path)\n",
    "    s_data = np.load(s_path)\n",
    "\n",
    "    vm_10_data = vm_data[:10, :, :]\n",
    "    s_10_data = s_data[:10, :, :]\n",
    "    \n",
    "    np.save(f\"dataset/seismic_data/{style}.npy\", s_10_data)\n",
    "    np.save(f\"dataset/velocity_model/{style}.npy\", vm_10_data)\n",
    "\n",
    "for style in stylies:\n",
    "    vm_path = f\"dataset/velocity_model/{style}.npy\"\n",
    "    s_path = f\"dataset/seismic_data/{style}.npy\"\n",
    "    \n",
    "    vm_data = np.load(vm_path)\n",
    "    s_data = np.load(s_path)\n",
    "\n",
    "    print(f\"Velocity Model Data Shape for {style}: {vm_data.shape}\")\n",
    "    print(f\"Seismic Data Shape for {style}: {s_data.shape}\")"
   ]
  }
 ],
 "metadata": {
  "kernelspec": {
   "display_name": "fwi",
   "language": "python",
   "name": "python3"
  },
  "language_info": {
   "codemirror_mode": {
    "name": "ipython",
    "version": 3
   },
   "file_extension": ".py",
   "mimetype": "text/x-python",
   "name": "python",
   "nbconvert_exporter": "python",
   "pygments_lexer": "ipython3",
   "version": "3.10.18"
  }
 },
 "nbformat": 4,
 "nbformat_minor": 5
}
