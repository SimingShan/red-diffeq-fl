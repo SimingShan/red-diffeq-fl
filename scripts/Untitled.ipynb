{
 "cells": [
  {
   "cell_type": "code",
   "execution_count": 3,
   "id": "b102bf04-ec70-4849-8063-6a19dbf88d4e",
   "metadata": {},
   "outputs": [
    {
     "ename": "ModuleNotFoundError",
     "evalue": "No module named 'flwr.common'",
     "output_type": "error",
     "traceback": [
      "\u001b[0;31m---------------------------------------------------------------------------\u001b[0m",
      "\u001b[0;31mModuleNotFoundError\u001b[0m                       Traceback (most recent call last)",
      "Cell \u001b[0;32mIn[3], line 11\u001b[0m\n\u001b[1;32m      9\u001b[0m \u001b[38;5;28;01mfrom\u001b[39;00m \u001b[38;5;21;01mtyping\u001b[39;00m \u001b[38;5;28;01mimport\u001b[39;00m Dict, List, Tuple, Optional\n\u001b[1;32m     10\u001b[0m \u001b[38;5;28;01mimport\u001b[39;00m \u001b[38;5;21;01mflwr\u001b[39;00m \u001b[38;5;28;01mas\u001b[39;00m \u001b[38;5;21;01mfl\u001b[39;00m\n\u001b[0;32m---> 11\u001b[0m \u001b[38;5;28;01mfrom\u001b[39;00m \u001b[38;5;21;01mflwr\u001b[39;00m\u001b[38;5;21;01m.\u001b[39;00m\u001b[38;5;21;01mcommon\u001b[39;00m \u001b[38;5;28;01mimport\u001b[39;00m Metrics, NDArrays, Scalar, Parameters, ndarrays_to_parameters, parameters_to_ndarrays\n\u001b[1;32m     13\u001b[0m \u001b[38;5;28;01mimport\u001b[39;00m \u001b[38;5;21;01mos\u001b[39;00m\n\u001b[1;32m     14\u001b[0m \u001b[38;5;28;01mimport\u001b[39;00m \u001b[38;5;21;01mtempfile\u001b[39;00m\n",
      "\u001b[0;31mModuleNotFoundError\u001b[0m: No module named 'flwr.common'"
     ]
    }
   ],
   "source": [
    "import torch\n",
    "import torch.nn as nn\n",
    "import numpy as np\n",
    "from tqdm.auto import tqdm\n",
    "import matplotlib.pyplot as plt\n",
    "from functools import partial\n",
    "import copy\n",
    "import time\n",
    "from typing import Dict, List, Tuple, Optional\n",
    "import flwr as fl\n",
    "from flwr.common import Metrics, NDArrays, Scalar, Parameters, ndarrays_to_parameters, parameters_to_ndarrays\n",
    "\n",
    "import os\n",
    "import tempfile\n",
    "import pickle\n",
    "from datetime import datetime\n",
    "from flwr.server.strategy import FedAvg, FedProx, FedAvgM, FedOpt\n",
    "from scripts.diffusion_models.diffusion_model import *\n",
    "from scripts.pde_solvers.pde_solver_5clients import FWIForward \n",
    "from torch.optim import Adam\n",
    "from scripts.data_utils.data_trans import v_normalize, v_denormalize, s_normalize_none, s_normalize, s_denormalize\n",
    "import torch.multiprocessing as mp\n",
    "\n",
    "mp.set_start_method('spawn', force=True)\n",
    "device = torch.device(\"cuda\" if torch.cuda.is_available() else \"cpu\")\n",
    "\n",
    "ctx = {\n",
    "    'n_grid': 70, 'nt': 1000, 'dx': 10, 'nbc': 120, 'dt': 1e-3, 'f': 15,\n",
    "    'sz': 10, 'gz': 10, 'ng': 70, 'ns': 5\n",
    "}\n",
    "\n",
    "fwi_forward = FWIForward(ctx, device, normalize=True, v_denorm_func=v_denormalize, s_norm_func=s_normalize_none)\n",
    "diffusion_args = {\n",
    "    'dim': 64, 'dim_mults': (1, 2, 4, 8), 'flash_attn': False, 'channels': 1,\n",
    "    'image_size': 72, 'timesteps': 1000, 'sampling_timesteps': 250, 'objective': 'pred_noise'\n",
    "}\n",
    "\n",
    "print(\"Creating diffusion model structure...\")\n",
    "unet_model = Unet(\n",
    "    dim=diffusion_args.get('dim', 64),\n",
    "    dim_mults=diffusion_args.get('dim_mults', (1, 2, 4, 8)),\n",
    "    flash_attn=diffusion_args.get('flash_attn', False),\n",
    "    channels=diffusion_args.get('channels', 1)\n",
    ")\n",
    "\n",
    "diffusion = GaussianDiffusion(\n",
    "    unet_model,\n",
    "    image_size=diffusion_args.get('image_size', 72),\n",
    "    timesteps=diffusion_args.get('timesteps', 1000),\n",
    "    sampling_timesteps=diffusion_args.get('sampling_timesteps', 250),\n",
    "    objective=diffusion_args.get('objective', 'pred_noise')\n",
    ").to(device)\n",
    "\n"
   ]
  },
  {
   "cell_type": "code",
   "execution_count": null,
   "id": "b84ed48a-e361-4ad6-a2ba-e65c3aaff8ea",
   "metadata": {},
   "outputs": [],
   "source": []
  }
 ],
 "metadata": {
  "kernelspec": {
   "display_name": "Python 3 (ipykernel)",
   "language": "python",
   "name": "python3"
  },
  "language_info": {
   "codemirror_mode": {
    "name": "ipython",
    "version": 3
   },
   "file_extension": ".py",
   "mimetype": "text/x-python",
   "name": "python",
   "nbconvert_exporter": "python",
   "pygments_lexer": "ipython3",
   "version": "3.12.3"
  }
 },
 "nbformat": 4,
 "nbformat_minor": 5
}
