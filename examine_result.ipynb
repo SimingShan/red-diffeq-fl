{
 "cells": [
  {
   "cell_type": "code",
   "execution_count": 19,
   "id": "2e45658f",
   "metadata": {},
   "outputs": [
    {
     "name": "stdout",
     "output_type": "stream",
     "text": [
      "ssim: 0.9166019558906555\n",
      "ssim: 0.9210359454154968\n",
      "ssim: 0.3460482954978943\n",
      "ssim: 0.936425507068634\n",
      "ssim: 0.895470142364502\n",
      "ssim: 0.878612756729126\n",
      "ssim: 0.6202558279037476\n",
      "ssim: 0.895199179649353\n",
      "ssim: 0.8271270990371704\n",
      "ssim: 0.2616521120071411\n"
     ]
    }
   ],
   "source": [
    "import pickle\n",
    "result_root_2A = f\"experiment_result/FedAvgM_Diffusion_2A_20250806_005337/intermediate_results\"\n",
    "for i in range(10):\n",
    "    with open(f\"{result_root_2A}/CF_{i}_result.pkl\", \"rb\") as f:\n",
    "        result = pickle.load(f)\n",
    "        history_obj = result[\"history\"]\n",
    "        \n",
    "        # Access diffusion_loss from metrics_centralized\n",
    "        print(\"ssim:\", history_obj.metrics_centralized[\"ssim\"][-1][1])"
   ]
  },
  {
   "cell_type": "code",
   "execution_count": 20,
   "id": "80aea0be",
   "metadata": {},
   "outputs": [
    {
     "name": "stdout",
     "output_type": "stream",
     "text": [
      "ssim: 0.6860289573669434\n",
      "ssim: 0.9451403021812439\n",
      "ssim: 0.9181747436523438\n",
      "ssim: 0.8302531242370605\n",
      "ssim: 0.6148689389228821\n",
      "ssim: 0.8870447874069214\n",
      "ssim: 0.931169867515564\n",
      "ssim: 0.4751071631908417\n",
      "ssim: 0.9097065329551697\n",
      "ssim: 0.8960686326026917\n"
     ]
    }
   ],
   "source": [
    "import pickle\n",
    "result_root_2A = f\"experiment_result/FedAvgM_Diffusion_2A_20250806_005337/intermediate_results\"\n",
    "for i in range(10):\n",
    "    with open(f\"{result_root_2A}/CV_{i}_result.pkl\", \"rb\") as f:\n",
    "        result = pickle.load(f)\n",
    "        history_obj = result[\"history\"]\n",
    "        \n",
    "        # Access diffusion_loss from metrics_centralized\n",
    "        print(\"ssim:\", history_obj.metrics_centralized[\"ssim\"][-1][1])"
   ]
  },
  {
   "cell_type": "code",
   "execution_count": null,
   "id": "8ca5e970",
   "metadata": {},
   "outputs": [
    {
     "name": "stdout",
     "output_type": "stream",
     "text": [
      "{'config_loading': [0.007500410079956055], 'setup_mp_device': [0.011054039001464844], 'fwi_forward_setup': [0.00041937828063964844], 'diffusion_model_setup': [1.2448081970214844], 'ssim_loss_setup': [0.000438690185546875], 'data_loading': [0.05160975456237793], 'initial_model_creation': [0.023332595825195312], 'evaluate_fn_creation': [0.0004584789276123047], 'strategy_creation': [0.00042700767517089844], 'client_fn_creation': [6.4373016357421875e-06], 'fl_simulation': [25.857327699661255], 'result_processing': [0.0003609657287597656], 'intermediate_saving': [0.0002448558807373047], 'family_history_calculation': [0.00015997886657714844], 'overall_history_calculation': [7.486343383789062e-05], 'final_saving': [0.00013875961303710938], 'total_experiment': [27.198987245559692]}\n"
     ]
    }
   ],
   "source": [
    "import pickle\n",
    "time_result_2A = f\"experiment_result/FedAvgM_Diffusion_2A_20250807_145112/timing_results.pkl\"\n",
    "with open(time_result_2A, \"rb\") as f:\n",
    "    time_result = pickle.load(f)\n",
    "    print(time_result)"
   ]
  }
 ],
 "metadata": {
  "kernelspec": {
   "display_name": "fwi",
   "language": "python",
   "name": "python3"
  },
  "language_info": {
   "codemirror_mode": {
    "name": "ipython",
    "version": 3
   },
   "file_extension": ".py",
   "mimetype": "text/x-python",
   "name": "python",
   "nbconvert_exporter": "python",
   "pygments_lexer": "ipython3",
   "version": "3.10.18"
  }
 },
 "nbformat": 4,
 "nbformat_minor": 5
}
